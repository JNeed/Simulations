{
 "cells": [
  {
   "cell_type": "markdown",
   "id": "b175c477",
   "metadata": {},
   "source": [
    "# The Monty Hall Problem\n",
    "You're a contestant on a game show in which you are shown three curtains. Two of the curtains have a goat behind them, one has a car behind it. You're asked to pick a curtain at random. The game show host will reveal a curtain that has a goat behind it. You are now given the option to switch to the only remaining unopened curtain? Do you switch? Below, you can find the simulated probability of getting a car if you do switch."
   ]
  },
  {
   "cell_type": "code",
   "execution_count": 5,
   "id": "69614211",
   "metadata": {},
   "outputs": [],
   "source": [
    "import random as rd"
   ]
  },
  {
   "cell_type": "code",
   "execution_count": 6,
   "id": "255a2b69",
   "metadata": {},
   "outputs": [
    {
     "name": "stdout",
     "output_type": "stream",
     "text": [
      "0.666895\n"
     ]
    }
   ],
   "source": [
    "s = 0\n",
    "n = 1000000\n",
    "for i in range(n):\n",
    "    \n",
    "    curtains = [\"goat1\", \"goat2\", \"car\"]\n",
    "    player = rd.choice(curtains)\n",
    "\n",
    "    if player ==\"goat1\":\n",
    "        curtains.remove(\"goat2\")\n",
    "    elif player == \"goat2\":\n",
    "        curtains.remove(\"goat1\")\n",
    "    else:\n",
    "        curtains.remove(\"goat1\")\n",
    "\n",
    "    if curtains[0] != player:\n",
    "        player = curtains[0]\n",
    "    else:\n",
    "        player = curtains[1]\n",
    "        \n",
    "    if player == \"car\":\n",
    "        s+=1\n",
    "        \n",
    "print(s/n)"
   ]
  },
  {
   "cell_type": "code",
   "execution_count": null,
   "id": "51eb98cf",
   "metadata": {},
   "outputs": [],
   "source": []
  }
 ],
 "metadata": {
  "kernelspec": {
   "display_name": "Python 3",
   "language": "python",
   "name": "python3"
  },
  "language_info": {
   "codemirror_mode": {
    "name": "ipython",
    "version": 3
   },
   "file_extension": ".py",
   "mimetype": "text/x-python",
   "name": "python",
   "nbconvert_exporter": "python",
   "pygments_lexer": "ipython3",
   "version": "3.8.8"
  }
 },
 "nbformat": 4,
 "nbformat_minor": 5
}
