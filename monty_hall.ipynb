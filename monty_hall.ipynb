{
 "cells": [
  {
   "cell_type": "code",
   "execution_count": 5,
   "id": "69614211",
   "metadata": {},
   "outputs": [],
   "source": [
    "import random as rd"
   ]
  },
  {
   "cell_type": "code",
   "execution_count": 6,
   "id": "255a2b69",
   "metadata": {},
   "outputs": [
    {
     "name": "stdout",
     "output_type": "stream",
     "text": [
      "0.666895\n"
     ]
    }
   ],
   "source": [
    "s = 0\n",
    "n = 1000000\n",
    "for i in range(n):\n",
    "    \n",
    "    curtains = [\"goat1\", \"goat2\", \"car\"]\n",
    "    player = rd.choice(curtains)\n",
    "\n",
    "    if player ==\"goat1\":\n",
    "        curtains.remove(\"goat2\")\n",
    "    elif player == \"goat2\":\n",
    "        curtains.remove(\"goat1\")\n",
    "    else:\n",
    "        curtains.remove(\"goat1\")\n",
    "\n",
    "    if curtains[0] != player:\n",
    "        player = curtains[0]\n",
    "    else:\n",
    "        player = curtains[1]\n",
    "        \n",
    "    if player == \"car\":\n",
    "        s+=1\n",
    "        \n",
    "print(s/n)"
   ]
  },
  {
   "cell_type": "code",
   "execution_count": null,
   "id": "51eb98cf",
   "metadata": {},
   "outputs": [],
   "source": []
  }
 ],
 "metadata": {
  "kernelspec": {
   "display_name": "Python 3",
   "language": "python",
   "name": "python3"
  },
  "language_info": {
   "codemirror_mode": {
    "name": "ipython",
    "version": 3
   },
   "file_extension": ".py",
   "mimetype": "text/x-python",
   "name": "python",
   "nbconvert_exporter": "python",
   "pygments_lexer": "ipython3",
   "version": "3.8.8"
  }
 },
 "nbformat": 4,
 "nbformat_minor": 5
}
