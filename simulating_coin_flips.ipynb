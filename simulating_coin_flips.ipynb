{
 "cells": [
  {
   "cell_type": "markdown",
   "id": "a88181b8",
   "metadata": {},
   "source": [
    "# How many flips does it take to get 3 heads in a row?"
   ]
  },
  {
   "cell_type": "code",
   "execution_count": 1,
   "id": "208879bd",
   "metadata": {},
   "outputs": [],
   "source": [
    "import random as rd\n",
    "import scipy\n",
    "import matplotlib.pyplot as plt"
   ]
  },
  {
   "cell_type": "code",
   "execution_count": 12,
   "id": "927a6eda",
   "metadata": {},
   "outputs": [
    {
     "name": "stderr",
     "output_type": "stream",
     "text": [
      "<ipython-input-12-5b89ecc59044>:16: DeprecationWarning: scipy.mean is deprecated and will be removed in SciPy 2.0.0, use numpy.mean instead\n",
      "  scipy.mean(n_vec)\n"
     ]
    },
    {
     "data": {
      "text/plain": [
       "13.935"
      ]
     },
     "execution_count": 12,
     "metadata": {},
     "output_type": "execute_result"
    }
   ],
   "source": [
    "sides = [\"T\",\"H\"]\n",
    "flip = rd.choice(sides)\n",
    "count_consec = 0\n",
    "n_vec = []\n",
    "for i in range(1000):\n",
    "    n = 0\n",
    "    while count_consec!=3:\n",
    "        flip = rd.choice(sides)\n",
    "        if flip == \"H\":\n",
    "            count_consec+=1\n",
    "        else:\n",
    "            count_consec=0\n",
    "        n+=1\n",
    "    count_consec = 0\n",
    "    n_vec.append(n)\n",
    "scipy.mean(n_vec)\n"
   ]
  },
  {
   "cell_type": "code",
   "execution_count": 22,
   "id": "df8b3799",
   "metadata": {
    "scrolled": true
   },
   "outputs": [
    {
     "name": "stderr",
     "output_type": "stream",
     "text": [
      "<ipython-input-22-440d47108967>:3: DeprecationWarning: scipy.mean is deprecated and will be removed in SciPy 2.0.0, use numpy.mean instead\n",
      "  v.append(scipy.mean(n_vec[:i]))\n"
     ]
    },
    {
     "data": {
      "text/plain": [
       "<matplotlib.lines.Line2D at 0x193cad64eb0>"
      ]
     },
     "execution_count": 22,
     "metadata": {},
     "output_type": "execute_result"
    },
    {
     "data": {
      "image/png": "[encoded data removed]",
      "text/plain": [
       "<Figure size 432x288 with 1 Axes>"
      ]
     },
     "metadata": {
      "needs_background": "light"
     },
     "output_type": "display_data"
    }
   ],
   "source": [
    "v=[]\n",
    "for i in range(1,len(n_vec)):\n",
    "    v.append(scipy.mean(n_vec[:i]))\n",
    "\n",
    "plt.plot(range(1,len(n_vec)),v)\n",
    "plt.axhline(y=14, color='r', linestyle='--')"
   ]
  },
  {
   "cell_type": "code",
   "execution_count": null,
   "id": "2cc86840",
   "metadata": {},
   "outputs": [],
   "source": []
  }
 ],
 "metadata": {
  "kernelspec": {
   "display_name": "Python 3",
   "language": "python",
   "name": "python3"
  },
  "language_info": {
   "codemirror_mode": {
    "name": "ipython",
    "version": 3
   },
   "file_extension": ".py",
   "mimetype": "text/x-python",
   "name": "python",
   "nbconvert_exporter": "python",
   "pygments_lexer": "ipython3",
   "version": "3.8.8"
  }
 },
 "nbformat": 4,
 "nbformat_minor": 5
}
