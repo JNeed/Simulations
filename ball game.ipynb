{
 "cells": [
  {
   "cell_type": "markdown",
   "id": "ab504586",
   "metadata": {},
   "source": [
    "# The Scenario\n",
    "Four people are standing in a circle. One person is holding a ball. Whoever is holding the ball can pass the ball either to their left or right i.e. Say person one is holding the ball, they can only pass it to person two or person four; person two can only pass it to person one or person three, etc. The game ends when everyone has touched the ball once. What is the probability that the game ends with the ball in the hands of person three?"
   ]
  },
  {
   "cell_type": "code",
   "execution_count": 25,
   "id": "a7cc72c6",
   "metadata": {},
   "outputs": [],
   "source": [
    "import random as rd\n",
    "import matplotlib.pyplot as plt\n",
    "import scipy\n",
    "import collections"
   ]
  },
  {
   "cell_type": "code",
   "execution_count": 26,
   "id": "bc05e0bf",
   "metadata": {},
   "outputs": [],
   "source": [
    "# game ends when everyone has touched the ball\n",
    "trials_vec = []\n",
    "ls = [0,0,0,0] # flag - has person touched ball yet?\n",
    "for i in range(100000):\n",
    "    de = collections.deque([1, 2, 3,4])\n",
    "    trials = 0\n",
    "    while ls != [1,1,1,1]:\n",
    "        walk = rd.choice([-1,1])\n",
    "        de.rotate(walk)\n",
    "        ls[de[0]-1] = 1\n",
    "    if de[0] == 3:\n",
    "        trials_vec.append(1)\n",
    "    else:\n",
    "        trials_vec.append(0)\n",
    "    ls = [0,0,0,0]"
   ]
  },
  {
   "cell_type": "code",
   "execution_count": 27,
   "id": "f83b59bc",
   "metadata": {},
   "outputs": [
    {
     "name": "stderr",
     "output_type": "stream",
     "text": [
      "<ipython-input-27-85918d3f2e19>:1: DeprecationWarning: scipy.mean is deprecated and will be removed in SciPy 2.0.0, use numpy.mean instead\n",
      "  scipy.mean(trials_vec)\n"
     ]
    },
    {
     "data": {
      "text/plain": [
       "0.33181"
      ]
     },
     "execution_count": 27,
     "metadata": {},
     "output_type": "execute_result"
    }
   ],
   "source": [
    "scipy.mean(trials_vec)"
   ]
  },
  {
   "cell_type": "code",
   "execution_count": 28,
   "id": "67f76cb3",
   "metadata": {
    "scrolled": false
   },
   "outputs": [
    {
     "name": "stderr",
     "output_type": "stream",
     "text": [
      "<ipython-input-28-3ea6c8dc6ae2>:3: DeprecationWarning: scipy.mean is deprecated and will be removed in SciPy 2.0.0, use numpy.mean instead\n",
      "  probs_convergence.append(scipy.mean(trials_vec[:i]))\n"
     ]
    },
    {
     "data": {
      "text/plain": [
       "<matplotlib.lines.Line2D at 0x219169f6cd0>"
      ]
     },
     "execution_count": 28,
     "metadata": {},
     "output_type": "execute_result"
    },
    {
     "data": {
      "image/png": "[encoded data removed]",
      "text/plain": [
       "<Figure size 432x288 with 1 Axes>"
      ]
     },
     "metadata": {
      "needs_background": "light"
     },
     "output_type": "display_data"
    }
   ],
   "source": [
    "probs_convergence = []\n",
    "for i in range(1,len(probs)):\n",
    "    probs_convergence.append(scipy.mean(trials_vec[:i]))\n",
    "\n",
    "plt.plot(range(1,10000),probs_convergence[:10000])\n",
    "plt.axhline(y=.33, color='r', linestyle='--')"
   ]
  }
 ],
 "metadata": {
  "kernelspec": {
   "display_name": "Python 3",
   "language": "python",
   "name": "python3"
  },
  "language_info": {
   "codemirror_mode": {
    "name": "ipython",
    "version": 3
   },
   "file_extension": ".py",
   "mimetype": "text/x-python",
   "name": "python",
   "nbconvert_exporter": "python",
   "pygments_lexer": "ipython3",
   "version": "3.8.8"
  }
 },
 "nbformat": 4,
 "nbformat_minor": 5
}
